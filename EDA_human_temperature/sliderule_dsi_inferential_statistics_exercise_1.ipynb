{
 "cells": [
  {
   "cell_type": "markdown",
   "metadata": {},
   "source": [
    "# What is the True Normal Human Body Temperature? \n",
    "\n",
    "#### Background\n",
    "\n",
    "The mean normal body temperature was held to be 37$^{\\circ}$C or 98.6$^{\\circ}$F for more than 120 years since it was first conceptualized and reported by Carl Wunderlich in a famous 1868 book. But, is this value statistically correct?"
   ]
  },
  {
   "cell_type": "markdown",
   "metadata": {},
   "source": [
    "<h3>Exercises</h3>\n",
    "\n",
    "<p>In this exercise, you will analyze a dataset of human body temperatures and employ the concepts of hypothesis testing, confidence intervals, and statistical significance.</p>\n",
    "\n",
    "<p>Answer the following questions <b>in this notebook below and submit to your Github account</b>.</p> \n",
    "\n",
    "<ol>\n",
    "<li>  Is the distribution of body temperatures normal? \n",
    "    <ul>\n",
    "    <li> Although this is not a requirement for the Central Limit Theorem to hold (read the introduction on Wikipedia's page about the CLT carefully: https://en.wikipedia.org/wiki/Central_limit_theorem), it gives us some peace of mind that the population may also be normally distributed if we assume that this sample is representative of the population.\n",
    "    <li> Think about the way you're going to check for the normality of the distribution. Graphical methods are usually used first, but there are also other ways: https://en.wikipedia.org/wiki/Normality_test\n",
    "    </ul>\n",
    "<li>  Is the sample size large? Are the observations independent?\n",
    "    <ul>\n",
    "    <li> Remember that this is a condition for the Central Limit Theorem, and hence the statistical tests we are using, to apply.\n",
    "    </ul>\n",
    "<li>  Is the true population mean really 98.6 degrees F?\n",
    "    <ul>\n",
    "    <li> First, try a bootstrap hypothesis test.\n",
    "    <li> Now, let's try frequentist statistical testing. Would you use a one-sample or two-sample test? Why?\n",
    "    <li> In this situation, is it appropriate to use the $t$ or $z$ statistic? \n",
    "    <li> Now try using the other test. How is the result be different? Why?\n",
    "    </ul>\n",
    "<li>  Draw a small sample of size 10 from the data and repeat both frequentist tests. \n",
    "    <ul>\n",
    "    <li> Which one is the correct one to use? \n",
    "    <li> What do you notice? What does this tell you about the difference in application of the $t$ and $z$ statistic?\n",
    "    </ul>\n",
    "<li>  At what temperature should we consider someone's temperature to be \"abnormal\"?\n",
    "    <ul>\n",
    "    <li> As in the previous example, try calculating everything using the boostrap approach, as well as the frequentist approach.\n",
    "    <li> Start by computing the margin of error and confidence interval. When calculating the confidence interval, keep in mind that you should use the appropriate formula for one draw, and not N draws.\n",
    "    </ul>\n",
    "<li>  Is there a significant difference between males and females in normal temperature?\n",
    "    <ul>\n",
    "    <li> What testing approach did you use and why?\n",
    "    <li> Write a story with your conclusion in the context of the original problem.\n",
    "    </ul>\n",
    "</ol>\n",
    "\n",
    "You can include written notes in notebook cells using Markdown: \n",
    "   - In the control panel at the top, choose Cell > Cell Type > Markdown\n",
    "   - Markdown syntax: http://nestacms.com/docs/creating-content/markdown-cheat-sheet\n",
    "\n",
    "#### Resources\n",
    "\n",
    "+ Information and data sources: http://www.amstat.org/publications/jse/datasets/normtemp.txt, http://www.amstat.org/publications/jse/jse_data_archive.htm\n",
    "+ Markdown syntax: http://nestacms.com/docs/creating-content/markdown-cheat-sheet\n",
    "\n",
    "****"
   ]
  },
  {
   "cell_type": "code",
   "execution_count": 40,
   "metadata": {},
   "outputs": [],
   "source": [
    "import pandas as pd\n",
    "import numpy as np\n",
    "import matplotlib.pyplot as plt\n",
    "import seaborn as sns\n",
    "from scipy.stats import norm\n",
    "from scipy.stats import t\n",
    "\n",
    "sns.set()\n",
    "df = pd.read_csv('data/human_body_temperature.csv')"
   ]
  },
  {
   "cell_type": "markdown",
   "metadata": {},
   "source": [
    "### Question 1\n",
    "\n",
    "To determine whether the distribution is normal, we can plot the ECDF of the data compare it to a theoretical normal CDF with the same mean and standard deviation as the data:"
   ]
  },
  {
   "cell_type": "code",
   "execution_count": 17,
   "metadata": {
    "scrolled": true
   },
   "outputs": [
    {
     "data": {
      "image/png": "[encoded data removed]",
      "text/plain": [
       "<Figure size 432x288 with 1 Axes>"
      ]
     },
     "metadata": {},
     "output_type": "display_data"
    }
   ],
   "source": [
    "#Plot ECDF of data\n",
    "n = len(df)\n",
    "x = np.sort(df.temperature)\n",
    "y = np.arange(1, n+1) / n\n",
    "_ = plt.plot(x, y, marker='.', linestyle='none')\n",
    "\n",
    "#and overlay theoretical normal curve to determine normality\n",
    "mean = np.mean(df.temperature)\n",
    "std = np.std(df.temperature)\n",
    "samples = np.random.normal(mean, std, size=10000)\n",
    "x2 = np.sort(samples)\n",
    "y2 = np.arange(1, len(samples)+1) / len(samples)\n",
    "_ = plt.plot(x2, y2)\n",
    "_ = plt.xlabel('Temperature (F)')\n",
    "_ = plt.ylabel('CDF')"
   ]
  },
  {
   "cell_type": "markdown",
   "metadata": {},
   "source": [
    "Because the data are a relatively close fit to the orange theoretical curve, we can assume that they are normally distributed.\n",
    "\n",
    "### Question 2\n",
    "\n",
    "In order for the Central Limit Theorem to apply, the general rule of thumb is that sample size must be >= 30. Because the dataset contains 130 observations, it is large enough for our purposes. The observations can also be assumed to be independent, because it is unlikely that the temperature of one individual in the sample would influence the temperature of another, and the population from which the sample was drawn includes the entire human population (i.e. the sample size is < 10% of the population), so sampling with replacement is unnecessary.\n",
    "\n",
    "### Question 3\n",
    "\n",
    "#### Bootstrap test\n",
    "To determine if the true population mean is 98.6, we'll first use a bootstrap hypothesis test. Because the null hypothesis is that the true mean is 98.6, we'll shift the original data so that it has a new mean of 98.6. We will then generate 10,000 bootstrap samples from the shifted data and determine the proportion that are less than or equal to the mean of the original temperature data (we do less than, because the mean of the original data is less than 98.6):"
   ]
  },
  {
   "cell_type": "code",
   "execution_count": 49,
   "metadata": {
    "scrolled": true
   },
   "outputs": [
    {
     "name": "stdout",
     "output_type": "stream",
     "text": [
      "The mean of the original sample is:  98.24923076923078\n"
     ]
    },
    {
     "data": {
      "image/png": "[encoded data removed]",
      "text/plain": [
       "<Figure size 432x288 with 1 Axes>"
      ]
     },
     "metadata": {},
     "output_type": "display_data"
    }
   ],
   "source": [
    "#Define bootstrap replicate function\n",
    "def bootstrap_replicate_1d(data, func):\n",
    "    return func(np.random.choice(data, size=len(data)))\n",
    "\n",
    "#Define draw_bs_reps function\n",
    "def draw_bs_reps(data, func, size=1):\n",
    "    \"\"\"Draw bootstrap replicates.\"\"\"\n",
    "\n",
    "    # Initialize array of replicates: bs_replicates\n",
    "    bs_replicates = np.empty(size)\n",
    "\n",
    "    # Generate replicates\n",
    "    for i in range(size):\n",
    "        bs_replicates[i] = bootstrap_replicate_1d(data, func)\n",
    "\n",
    "    return bs_replicates\n",
    "\n",
    "#Print mean of original sample for reference\n",
    "print(\"The mean of the original sample is: \", np.mean(df.temperature))\n",
    "\n",
    "#Shift mean of data to 98.6\n",
    "translated_data = df.temperature - np.mean(df.temperature) + 98.6\n",
    "\n",
    "#Generate 10,000 bootstrap replicates of translated temperatures\n",
    "bs_replicates = draw_bs_reps(translated_data, np.mean, 10000)\n",
    "\n",
    "#Plot histogram\n",
    "_ = plt.hist(bs_replicates, bins=100)\n"
   ]
  },
  {
   "cell_type": "markdown",
   "metadata": {},
   "source": [
    "In the histogram above, we see the distribution of boostrap replicates generated from a mean of 98.6. We can already see that the original mean of 98.25 is way off to the left of the distribution, so it is very unlikely that the true mean is 98.6. We can calculate the p-value for this test as follows:"
   ]
  },
  {
   "cell_type": "code",
   "execution_count": 50,
   "metadata": {},
   "outputs": [
    {
     "name": "stdout",
     "output_type": "stream",
     "text": [
      "p =  0.0\n"
     ]
    }
   ],
   "source": [
    "#Calculate p-value for observing mean \n",
    "p = np.sum(bs_replicates <= np.mean(df.temperature)) / 10000\n",
    "\n",
    "#Print p-value\n",
    "print(\"p = \", p)"
   ]
  },
  {
   "cell_type": "markdown",
   "metadata": {},
   "source": [
    "The p-value is so small that it is practically zero. In other words, not one of the 10,000 bootstrapped samples had a mean as extreme as our original sample. This leads us to conclude that the true population mean is __not__ 98.6.\n",
    "\n",
    "#### Frequentist test\n",
    "\n",
    "We can now test the same question using a frequentist approach. We will use a _one-sample_ test, as we were treating the entire dataset as one sample and testing whether its mean differs from the hypothesized mean of 98.6. In this instance, one could probably use either the t-statistic or z-statistic because the sample size N is > 30, and the t-distribution approximates the z-distribution at larger N. However, the z-statistic is most appropriate when the standard deviation of the population is known, and because that is not the case here, we will use the t-statistic.\n",
    "\n",
    "To test our hypothesis, we first derive our t-statistic by calculating how much the sample mean deviates from our hypothesized mean, and divide that quantity by our estimate of the standard error of the mean. We can then calculate the probability that we would observe a mean as extreme as our own using the t-statistic."
   ]
  },
  {
   "cell_type": "code",
   "execution_count": 52,
   "metadata": {},
   "outputs": [
    {
     "name": "stdout",
     "output_type": "stream",
     "text": [
      "The t-statistic for our one-sample test is:  5.454823292364079\n",
      "The p-value for our one-sample test is  1.2053160214353653e-07\n"
     ]
    }
   ],
   "source": [
    "#Save sample size\n",
    "n = len(df.temperature)\n",
    "\n",
    "#Calculate deviation from mean\n",
    "mean_diff = 98.6 - np.mean(df.temperature)\n",
    "\n",
    "#Calculate un-biased estimate of sample variance\n",
    "unb_var = np.var(df.temperature, ddof=1)\n",
    "#Take square root to get std dev\n",
    "std_dev = np.sqrt(unb_var)\n",
    "\n",
    "#Calculate standard error (std dev of sampling dist.)\n",
    "std_err = std_dev / np.sqrt(n)\n",
    "\n",
    "#Calculate t-statistic\n",
    "t_val = mean_diff / std_err\n",
    "\n",
    "#Calculate p of t-statistic using degrees of freedom = n - 1\n",
    "p_t = 1 - t.cdf(t_val, df=n-1)\n",
    "\n",
    "print(\"The t-statistic for our one-sample test is: \", t_val)\n",
    "print(\"The p-value for our one-sample test is \", p_t)"
   ]
  },
  {
   "cell_type": "markdown",
   "metadata": {},
   "source": [
    "Consistent with our bootstrapped test, the probability of obtaining a sample mean at least as extreme as our own is almost zero. Once again, we can conclude that the population mean is _not_ 98.6.\n",
    "\n",
    "For comparison, we can calculate the same result using a z-statistic and see if we get roughly the same answer. Because we don't know the population std. deviation, we will estimate it using the sample std. deviation, meaning that our statistic will be the same prior to calculating the probability. The difference arises because we derive our probability from the normal distribution rather than the t-distribution:"
   ]
  },
  {
   "cell_type": "code",
   "execution_count": 55,
   "metadata": {},
   "outputs": [
    {
     "name": "stdout",
     "output_type": "stream",
     "text": [
      "The p-value for our z-statistic is:  2.451078506826576e-08\n"
     ]
    }
   ],
   "source": [
    "#Calculate z-score, will be same formula as t-statistic\n",
    "z_val = mean_diff / std_err\n",
    "\n",
    "#Derive probability from normal distribution\n",
    "p_z = 1 - norm.cdf(z_val)\n",
    "\n",
    "print(\"The p-value for our z-statistic is: \", p_z)"
   ]
  },
  {
   "cell_type": "markdown",
   "metadata": {},
   "source": [
    "The p-value when using a z-statistic is also extremely small, but it is a bit smaller than when using the t-statistic. This is because the t-statistic is a more conservative test that more accurately approximates the true distribution of the sampling distribution at finite (and especially small) sample sizes. In our case, because the sample size is sufficiently large, the two probabilities are extremely close to each other.\n",
    "\n",
    "### Question 4\n",
    "\n",
    "We will now repeat the two tests using a smaller sample of 10 individuals drawn from the original sample:"
   ]
  },
  {
   "cell_type": "code",
   "execution_count": 62,
   "metadata": {},
   "outputs": [
    {
     "name": "stdout",
     "output_type": "stream",
     "text": [
      "The statistic used for both t and z is:  1.8244909216786076\n",
      "The p-value when using a t distribution is  0.05068916616779029\n",
      "The p-value when using a z (normal) distribution is  0.0340389437846641\n"
     ]
    }
   ],
   "source": [
    "#Sample 10 individuals\n",
    "small_n = 10\n",
    "np.random.seed(100)\n",
    "small_sample = np.random.choice(df.temperature, small_n)\n",
    "\n",
    "#Calculate deviation from mean\n",
    "small_mean_diff = 98.6 - np.mean(small_sample)\n",
    "\n",
    "#Calculate un-biased estimate of sample variance\n",
    "small_unb_var = np.var(small_sample, ddof=1)\n",
    "#Take square root to get std dev\n",
    "small_std_dev = np.sqrt(small_unb_var)\n",
    "\n",
    "#Calculate standard error (std dev of sampling dist.)\n",
    "small_std_err = small_std_dev / np.sqrt(small_n)\n",
    "\n",
    "#Calculate statistic (same for both since population std. dev. unknown)\n",
    "small_statistic = small_mean_diff / small_std_err\n",
    "\n",
    "#Calculate p of t-statistic using degrees of freedom = n - 1\n",
    "small_p_t = 1 - t.cdf(small_statistic, df=small_n-1)\n",
    "\n",
    "#Calculate p of z-statistic\n",
    "small_p_z = 1 - norm.cdf(small_statistic)\n",
    "\n",
    "print(\"The statistic used for both t and z is: \", small_statistic)\n",
    "print(\"The p-value when using a t distribution is \", small_p_t)\n",
    "print(\"The p-value when using a z (normal) distribution is \", small_p_z)"
   ]
  },
  {
   "cell_type": "markdown",
   "metadata": {},
   "source": [
    "Here we notice a bigger discrepancy between the two, with the p-value from the t-distribution being larger. This is because the t-distribution is a better description of the sampling distribution when N is small (such as 10). In this case, we should have a strong preference for using the t-distribution because it won't overestimate our significance like assuming a normal distribution would.\n",
    "\n",
    "### Question 5\n",
    "\n",
    "To determine when a person's temperature should be considered abnormal, we first have to define what \"abnormal\" means. For our purposes, let's assume that if you're in the extreme 5% of the population, your temperature might be abnormal. That means that if you have a temperature higher than 2.5% or lower than 2.5% of the population, you might have a fever or be unusually hypo-thermic, respectively.\n",
    "\n",
    "We will first calculate our confidence intervals using the bootstrap method. Here, we are essentially doing the same thing we did before, but taking sample sizes of 1. We will then calculate what values fall on the 5% fringes of our distribution:"
   ]
  },
  {
   "cell_type": "code",
   "execution_count": 87,
   "metadata": {},
   "outputs": [
    {
     "name": "stdout",
     "output_type": "stream",
     "text": [
      "Our lower bound for a normal temperature is:  96.7\n",
      "Our upper bound for a normal temperature is:  99.5\n"
     ]
    }
   ],
   "source": [
    "#Draw 10,000 individual datapoints from original sample\n",
    "ind_data = np.random.choice(df.temperature, 10000)\n",
    "\n",
    "#Calculate CI using .5% on both tails\n",
    "CI = np.percentile(ind_data, [2.5, 97.5])\n",
    "\n",
    "print(\"Our lower bound for a normal temperature is: \", CI[0])\n",
    "print(\"Our upper bound for a normal temperature is: \", CI[1])"
   ]
  },
  {
   "cell_type": "markdown",
   "metadata": {},
   "source": [
    "So, according to our standard, a temperature would be considered abnormal if it was less than 96.7 F or greater than 99.5 F. \n",
    "\n",
    "We can also calculate confidence intervals and margin of error using a frequentist approach. We use the sample mean and un-biased std. dev. as estimates for the population parameters, and calculate what our t-statistic should be for our 5% interval. We then multiply this by our standard deviation to derive our margin of error, and add/subtract the MOE to/from the mean to obtain our CI. "
   ]
  },
  {
   "cell_type": "code",
   "execution_count": 88,
   "metadata": {},
   "outputs": [
    {
     "name": "stdout",
     "output_type": "stream",
     "text": [
      "Our frequentist lower bound for a normal temperature is:  96.79860993432575\n",
      "Our frequentist upper bound for a normal temperature is:  99.6998516041358\n",
      "Our frequentist MOE for normal temperature is: +-  1.4506208349050185\n"
     ]
    }
   ],
   "source": [
    "#Determine t-statistic for CI of 5% (2.5% on both tails) \n",
    "ind_t = t.ppf(.975, df=n-1)\n",
    "\n",
    "#Multiply by un-biased std. dev. estimate for population calculated previously\n",
    "ind_MOE = ind_t * std_dev\n",
    "\n",
    "#Add and subtract MOE from mean to obtain CI\n",
    "ind_CI = np.array([mean - ind_MOE, mean + ind_MOE])\n",
    "\n",
    "print(\"Our frequentist lower bound for a normal temperature is: \", ind_CI[0])\n",
    "print(\"Our frequentist upper bound for a normal temperature is: \", ind_CI[1])\n",
    "print(\"Our frequentist MOE for normal temperature is: +- \", ind_MOE)"
   ]
  },
  {
   "cell_type": "markdown",
   "metadata": {},
   "source": [
    "It is notable that the frequentist upper bound of 99.7 is rather different than the bootstrapped value of 99.5. This is because the frequentist approach assumes a normal distribution with symmetric deviations on both sides of the curve. Because it's not clear that temperature is normally distributed, it may be more accurate to use the bootstrapped method in this instance.\n",
    "\n",
    "### Question 5\n",
    "\n",
    "To answer whether the temperatures of males differ from those of females, we will use a bootstrap method. Because the bootstrap method makes less assumptions about the underlying distributions of the temperatures, it may be a more accurate test than the frequentist approach.\n",
    "\n",
    "In particular, we will use a means-shifted approach to answer the specific question of whether the mean temperature differs between the two groups. We could use a permutation approach, but that makes the added assumption that the two distributions are identical, so we won't do that here. We will create boostrap replicates for each mean-shifted distribution separately, and then calculate the difference in means between paired replicates and determine what proportion of means is at least as extreme as the original observed difference in means:"
   ]
  },
  {
   "cell_type": "code",
   "execution_count": 89,
   "metadata": {},
   "outputs": [
    {
     "name": "stdout",
     "output_type": "stream",
     "text": [
      "The mean temperature of females is:  98.39384615384614\n",
      "The mean temperature of males is:  98.10461538461537\n",
      "The probability of obtaining a difference as big as the one observed is:  0.0116\n"
     ]
    }
   ],
   "source": [
    "#Load male and female temps into variables\n",
    "male_temps = np.array(df.temperature[df['gender']=='M'])\n",
    "female_temps = np.array(df.temperature[df['gender']=='F'])\n",
    "\n",
    "#Calculate mean difference of original samples (larger (F) - smaller (M))\n",
    "mean_diff = np.mean(female_temps) - np.mean(male_temps)\n",
    "\n",
    "#Shift the means of both samples to the combined mean\n",
    "male_shifted = male_temps - np.mean(male_temps) + mean\n",
    "female_shifted = female_temps - np.mean(female_temps) + mean\n",
    "\n",
    "#Get bootstrap replicates of shifted data\n",
    "male_reps = draw_bs_reps(male_shifted, np.mean, 10000)\n",
    "female_reps = draw_bs_reps(female_shifted, np.mean, 10000)\n",
    "\n",
    "#Compute diff in mean for replicates\n",
    "diff_reps = female_reps - male_reps\n",
    "\n",
    "#Compute p-value \n",
    "p = np.sum(diff_reps >= mean_diff) / len(diff_reps)\n",
    "\n",
    "print(\"The mean temperature of females is: \", np.mean(female_temps))\n",
    "print(\"The mean temperature of males is: \", np.mean(male_temps))\n",
    "print(\"The probability of obtaining a difference as big as the one observed is: \", p)\n",
    "\n"
   ]
  },
  {
   "cell_type": "markdown",
   "metadata": {},
   "source": [
    "The probability that the mean temperatures of females would be that much larger than the males is only 0.011, suggesting that the two populations do _not_ have the same temperature. It is worth stressing that this is the probability that the female temps would have been this much _larger_ than the male temps; with no prior hypothesis about the direction, we might want to think of this as a two-tailed t-test, double the p-value, and say that there is only a 0.022 chance of obtaining a difference this extreme, regardless of direction.\n",
    "\n",
    "In the context of the original problem, it is interesting that males have an average temperature that is a full half-degree lower than the temperature that most assume to be normal. This has interesting implications for the health of males, as they may experience fevers at lower temperatures than expected, and therefore not realize that they're temperature is abnormal when it in fact is. The temperatures for females appear to be closer to 98.6, so their normal range may be closer to what we have typically assumed. After doing some sleuthing online, it appears that the original study on which the 98.6 figure is based was conducted using a thermometer that was calibrated at a higher temperature than today's standards.  "
   ]
  },
  {
   "cell_type": "code",
   "execution_count": null,
   "metadata": {},
   "outputs": [],
   "source": []
  }
 ],
 "metadata": {
  "kernelspec": {
   "display_name": "Python 3",
   "language": "python",
   "name": "python3"
  },
  "language_info": {
   "codemirror_mode": {
    "name": "ipython",
    "version": 3
   },
   "file_extension": ".py",
   "mimetype": "text/x-python",
   "name": "python",
   "nbconvert_exporter": "python",
   "pygments_lexer": "ipython3",
   "version": "3.7.1"
  }
 },
 "nbformat": 4,
 "nbformat_minor": 1
}
